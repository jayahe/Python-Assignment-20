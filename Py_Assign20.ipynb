{
 "cells": [
  {
   "cell_type": "markdown",
   "metadata": {},
   "source": [
    "### Problem Statement 20:\n",
    "\n",
    "1. What are the three stages to build the hypotheses or model in machine learning?\n",
    "2. What is the standard approach to supervised learning?\n",
    "3. What is Training set and Test set?\n",
    "4. What is the general principle of an ensemble method and what is bagging and\n",
    "boosting in ensemble method?\n",
    "5. How can you avoid overfitting ?"
   ]
  },
  {
   "cell_type": "markdown",
   "metadata": {},
   "source": [
    "**1. What are the three stages to build the hypotheses or model in machine learning?**\n",
    "\n",
    "The three stages of model building process in machine learning are:\n",
    "* Define/Select the suitable model based on the target variable\n",
    "* Build the model \n",
    "* Evaluate & deploy the model\n"
   ]
  },
  {
   "cell_type": "markdown",
   "metadata": {},
   "source": [
    "**2. What is the standard approach to supervised learning?**\n",
    "\n",
    "The standard approach for supervised learning is:\n",
    "\n",
    "* Identify the predictors and target variable\n",
    "* Split the data into train and test data\n",
    "* Build the model on known data and evaluate the model on unknown data"
   ]
  },
  {
   "cell_type": "markdown",
   "metadata": {},
   "source": [
    "**3. What is Training set and Test set?**\n",
    "\n",
    "Training set: A training set is one where in specific features are picked in and used to build the model, so that the model can learn the patterns within data. The training set is also known as labeled data, where we have the target variable.This set is approx 70% of the overall data.\n",
    "\n",
    "Test set: A test set is one which is used to evaluate the model performance on unknown data. A test is also known as unlabeled data.This set is approx 30% of the overall data."
   ]
  },
  {
   "cell_type": "markdown",
   "metadata": {},
   "source": [
    "**4. What is the general principle of an ensemble method and what is bagging and\n",
    "boosting in ensemble method?**\n",
    "\n",
    "_Principle_: The general principle of ensemble is combining weak learners to form a strong learner to improve the predictive power of the model\n",
    "\n",
    "_Bagging_: Bagging is also known as bootstrap sampling. It is process in which multiple models are built on different samples of the data(with replacement) considering all the features for every model, and aggregate of the values are cosndiered as a final output.Ex for numeric output mean is cosnidered and for categoric output mode of all the leaf nodes is considered.\n",
    "Bagging often produces correlated models because it considers all the features eveytime for every model.\n",
    "Ex: Random Forest\n",
    "\n",
    "_Boosting_: Boosting is a process where in a final model built considering the errors from previous models. In short multiple models are built on different samples of the data and weights are assigned to all incorrect predictions, and inturn this is used as a input to build the final model.\n",
    "Ex: GBM, XGBoost, AdaBoost, CatBoost, LightBoost"
   ]
  },
  {
   "cell_type": "markdown",
   "metadata": {},
   "source": [
    "**How can you avoid overfitting ?**\n",
    "\n",
    "We can avoid overfitting by:\n",
    "* Add more training data\n",
    "* Manually select the significant features using\n",
    "  - forward selection\n",
    "  - backward elimination\n",
    "* Use regularization models\n",
    "  - Lasso(Least absolute shrinkage & selection operator)\n",
    "  - Ridge\n",
    "  - ElasticNet\n",
    "* Use crossvalidation\n",
    "  - LOOCV (Leave one out cross validation)\n",
    "  - Validaion set approach\n",
    "  - KFold cross validation\n",
    "  - Stratified k-fold cross validation\n",
    "  - Adversarial cross validation"
   ]
  },
  {
   "cell_type": "code",
   "execution_count": null,
   "metadata": {},
   "outputs": [],
   "source": []
  }
 ],
 "metadata": {
  "kernelspec": {
   "display_name": "Python 3",
   "language": "python",
   "name": "python3"
  },
  "language_info": {
   "codemirror_mode": {
    "name": "ipython",
    "version": 3
   },
   "file_extension": ".py",
   "mimetype": "text/x-python",
   "name": "python",
   "nbconvert_exporter": "python",
   "pygments_lexer": "ipython3",
   "version": "3.6.5"
  }
 },
 "nbformat": 4,
 "nbformat_minor": 2
}
